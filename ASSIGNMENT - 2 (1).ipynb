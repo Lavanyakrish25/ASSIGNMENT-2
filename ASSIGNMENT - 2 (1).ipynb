{
 "cells": [
  {
   "cell_type": "code",
   "execution_count": null,
   "id": "9fd29e24",
   "metadata": {},
   "outputs": [],
   "source": [
    "#Name :Lavanya.B\n",
    "#Register.No: 21UAI049\n",
    "#Assignment 2"
   ]
  },
  {
   "cell_type": "code",
   "execution_count": null,
   "id": "04115920",
   "metadata": {},
   "outputs": [],
   "source": [
    "#Inheritance"
   ]
  },
  {
   "cell_type": "code",
   "execution_count": 2,
   "id": "e19677c8",
   "metadata": {},
   "outputs": [
    {
     "name": "stdout",
     "output_type": "stream",
     "text": [
      "Base1\n",
      "Base2\n",
      "Derived\n",
      "Lavanya Balakrishnan\n"
     ]
    }
   ],
   "source": [
    "class Base1(object):\n",
    "    def __init__(self):\n",
    "        self.str1 = \"Lavanya\"\n",
    "        print(\"Base1\")\n",
    " \n",
    " \n",
    "class Base2(object):\n",
    "    def __init__(self):\n",
    "        self.str2 = \"Balakrishnan\"\n",
    "        print(\"Base2\")\n",
    " \n",
    " \n",
    "class Derived(Base1, Base2):\n",
    "    def __init__(self):\n",
    " \n",
    "        Base1.__init__(self)\n",
    "        Base2.__init__(self)\n",
    "        print(\"Derived\")\n",
    " \n",
    "    def printStrs(self):\n",
    "        print(self.str1, self.str2)\n",
    " \n",
    " \n",
    "ob = Derived()\n",
    "ob.printStrs()"
   ]
  },
  {
   "cell_type": "code",
   "execution_count": 1,
   "id": "9a463c82",
   "metadata": {},
   "outputs": [
    {
     "name": "stdout",
     "output_type": "stream",
     "text": [
      "Lavanya 18 Maldives\n"
     ]
    }
   ],
   "source": [
    "class Base(object):\n",
    " \n",
    "    def __init__(self, name):\n",
    "        self.name = name\n",
    " \n",
    "    def getName(self):\n",
    "        return self.name\n",
    " \n",
    "\n",
    "class Child(Base):\n",
    " \n",
    "    def __init__(self, name, age):\n",
    "        Base.__init__(self, name)\n",
    "        self.age = age\n",
    " \n",
    "    def getAge(self):\n",
    "        return self.age\n",
    " \n",
    " \n",
    "class GrandChild(Child):\n",
    " \n",
    "    def __init__(self, name, age, address):\n",
    "        Child.__init__(self, name, age)\n",
    "        self.address = address\n",
    " \n",
    "    def getAddress(self):\n",
    "        return self.address\n",
    " \n",
    " \n",
    "g = GrandChild(\"Lavanya\", 18, \"Maldives\")\n",
    "print(g.getName(), g.getAge(), g.getAddress())"
   ]
  },
  {
   "cell_type": "code",
   "execution_count": 3,
   "id": "54a65817",
   "metadata": {},
   "outputs": [
    {
     "name": "stdout",
     "output_type": "stream",
     "text": [
      "Name:  Lavanya\n",
      "Age:  18\n"
     ]
    }
   ],
   "source": [
    "#Public\n",
    "class age:\n",
    "      \n",
    "     def __init__(self, name, age):\n",
    "           \n",
    "           self.ageName = name\n",
    "           self.ageAge = age\n",
    "      \n",
    "     def displayAge(self):\n",
    "           \n",
    "           print(\"Age: \", self.ageAge)\n",
    " \n",
    "obj = age(\"Lavanya\", 18)\n",
    " \n",
    "print(\"Name: \", obj.ageName)\n",
    " \n",
    "obj.displayAge()"
   ]
  },
  {
   "cell_type": "code",
   "execution_count": 4,
   "id": "934164d9",
   "metadata": {},
   "outputs": [
    {
     "name": "stdout",
     "output_type": "stream",
     "text": [
      "Name:  Lavanya\n",
      "Roll:  45678\n",
      "Branch:  Artificial Intelligence and Data Science\n"
     ]
    }
   ],
   "source": [
    "#Protected\n",
    "class Student:\n",
    "    \n",
    "     _name = None\n",
    "     _roll = None\n",
    "     _branch = None\n",
    "    \n",
    "     def __init__(self, name, roll, branch): \n",
    "          self._name = name\n",
    "          self._roll = roll\n",
    "          self._branch = branch\n",
    "      \n",
    "     def _displayRollAndBranch(self):\n",
    " \n",
    "          print(\"Roll: \", self._roll)\n",
    "          print(\"Branch: \", self._branch)\n",
    " \n",
    "\n",
    "class Display(Student):\n",
    "\n",
    "       def __init__(self, name, roll, branch):\n",
    "                Student.__init__(self, name, roll, branch)\n",
    "        \n",
    "       def displayDetails(self):\n",
    "                   \n",
    "                print(\"Name: \", self._name)\n",
    "                   \n",
    "                self._displayRollAndBranch()\n",
    " \n",
    "obj = Display(\"Lavanya\",45678, \"Artificial Intelligence and Data Science\")\n",
    "\n",
    "obj.displayDetails()"
   ]
  },
  {
   "cell_type": "code",
   "execution_count": 5,
   "id": "b4b41204",
   "metadata": {},
   "outputs": [
    {
     "name": "stdout",
     "output_type": "stream",
     "text": [
      "Name:  Lavanya\n",
      "Roll:  611528\n",
      "Branch:  Artificial Intelligence and Data science\n"
     ]
    }
   ],
   "source": [
    "class Display:\n",
    "    \n",
    "     __name = None\n",
    "     __roll = None\n",
    "     __branch = None\n",
    " \n",
    "     def __init__(self, name, roll, branch): \n",
    "          self.__name = name\n",
    "          self.__roll = roll\n",
    "          self.__branch = branch\n",
    " \n",
    "     def __displayDetails(self):\n",
    "           \n",
    "           print(\"Name: \", self.__name)\n",
    "           print(\"Roll: \", self.__roll)\n",
    "           print(\"Branch: \", self.__branch)\n",
    "    \n",
    "     def accessPrivateFunction(self):\n",
    "            \n",
    "           self.__displayDetails() \n",
    "    \n",
    "obj = Display(\"Lavanya\",611528, \"Artificial Intelligence and Data science\")\n",
    " \n",
    "obj.accessPrivateFunction()"
   ]
  },
  {
   "cell_type": "code",
   "execution_count": 6,
   "id": "6c52afb9",
   "metadata": {},
   "outputs": [],
   "source": [
    "#Exception Handling"
   ]
  },
  {
   "cell_type": "code",
   "execution_count": 7,
   "id": "2b15349c",
   "metadata": {},
   "outputs": [
    {
     "data": {
      "text/plain": [
       "array([0, None, 4, 4], dtype=object)"
      ]
     },
     "execution_count": 7,
     "metadata": {},
     "output_type": "execute_result"
    }
   ],
   "source": [
    "import numpy as np\n",
    "import pandas as pd\n",
    "val1 = np.array([0, None, 4, 4])\n",
    "val1"
   ]
  },
  {
   "cell_type": "code",
   "execution_count": 8,
   "id": "56fd24a3",
   "metadata": {},
   "outputs": [
    {
     "name": "stdout",
     "output_type": "stream",
     "text": [
      "dtype = object\n",
      "97.5 ms ± 28.7 ms per loop (mean ± std. dev. of 7 runs, 10 loops each)\n",
      "\n",
      "dtype = int\n",
      "4.54 ms ± 68.1 µs per loop (mean ± std. dev. of 7 runs, 100 loops each)\n",
      "\n"
     ]
    }
   ],
   "source": [
    "for dtype in ['object', 'int']:\n",
    "    print(\"dtype =\", dtype)\n",
    "    %timeit np.arange(1E6, dtype=dtype).sum()\n",
    "    print()"
   ]
  },
  {
   "cell_type": "code",
   "execution_count": 9,
   "id": "70f3ca47",
   "metadata": {},
   "outputs": [
    {
     "data": {
      "text/plain": [
       "dtype('float64')"
      ]
     },
     "execution_count": 9,
     "metadata": {},
     "output_type": "execute_result"
    }
   ],
   "source": [
    "val2 = np.array([8, np.nan, 4, 18]) \n",
    "val2.dtype\n"
   ]
  },
  {
   "cell_type": "code",
   "execution_count": 10,
   "id": "de07e235",
   "metadata": {},
   "outputs": [
    {
     "data": {
      "text/plain": [
       "(nan, nan, nan)"
      ]
     },
     "execution_count": 10,
     "metadata": {},
     "output_type": "execute_result"
    }
   ],
   "source": [
    "val2.sum(), val2.min(), val2.max()"
   ]
  },
  {
   "cell_type": "code",
   "execution_count": 11,
   "id": "40b9e647",
   "metadata": {},
   "outputs": [
    {
     "data": {
      "text/plain": [
       "(30.0, 4.0, 18.0)"
      ]
     },
     "execution_count": 11,
     "metadata": {},
     "output_type": "execute_result"
    }
   ],
   "source": [
    "np.nansum(val2), np.nanmin(val2), np.nanmax(val2)"
   ]
  },
  {
   "cell_type": "code",
   "execution_count": 12,
   "id": "ece56f71",
   "metadata": {},
   "outputs": [
    {
     "data": {
      "text/plain": [
       "0    0\n",
       "1    1\n",
       "2    2\n",
       "3    3\n",
       "4    4\n",
       "dtype: int32"
      ]
     },
     "execution_count": 12,
     "metadata": {},
     "output_type": "execute_result"
    }
   ],
   "source": [
    "x = pd.Series(range(5), dtype=int)\n",
    "x"
   ]
  },
  {
   "cell_type": "code",
   "execution_count": 13,
   "id": "caf56bf4",
   "metadata": {},
   "outputs": [
    {
     "data": {
      "text/plain": [
       "0    NaN\n",
       "1    1.0\n",
       "2    2.0\n",
       "3    3.0\n",
       "4    4.0\n",
       "dtype: float64"
      ]
     },
     "execution_count": 13,
     "metadata": {},
     "output_type": "execute_result"
    }
   ],
   "source": [
    "x[0] = None\n",
    "x"
   ]
  },
  {
   "cell_type": "code",
   "execution_count": 14,
   "id": "74195245",
   "metadata": {},
   "outputs": [],
   "source": [
    "data = pd.Series([1, np.nan, 'Hi', None])"
   ]
  },
  {
   "cell_type": "code",
   "execution_count": 15,
   "id": "600b5cc3",
   "metadata": {},
   "outputs": [
    {
     "data": {
      "text/plain": [
       "0    False\n",
       "1     True\n",
       "2    False\n",
       "3     True\n",
       "dtype: bool"
      ]
     },
     "execution_count": 15,
     "metadata": {},
     "output_type": "execute_result"
    }
   ],
   "source": [
    "data.isnull()"
   ]
  },
  {
   "cell_type": "code",
   "execution_count": 16,
   "id": "50e50862",
   "metadata": {},
   "outputs": [
    {
     "data": {
      "text/plain": [
       "0     1\n",
       "2    Hi\n",
       "dtype: object"
      ]
     },
     "execution_count": 16,
     "metadata": {},
     "output_type": "execute_result"
    }
   ],
   "source": [
    "data.dropna()"
   ]
  },
  {
   "cell_type": "code",
   "execution_count": 17,
   "id": "2338d35a",
   "metadata": {},
   "outputs": [
    {
     "name": "stdout",
     "output_type": "stream",
     "text": [
      "     0    1  2\n",
      "0  7.0  NaN  9\n",
      "1  2.0  4.0  5\n",
      "2  NaN  9.0  6\n"
     ]
    },
    {
     "data": {
      "text/html": [
       "<div>\n",
       "<style scoped>\n",
       "    .dataframe tbody tr th:only-of-type {\n",
       "        vertical-align: middle;\n",
       "    }\n",
       "\n",
       "    .dataframe tbody tr th {\n",
       "        vertical-align: top;\n",
       "    }\n",
       "\n",
       "    .dataframe thead th {\n",
       "        text-align: right;\n",
       "    }\n",
       "</style>\n",
       "<table border=\"1\" class=\"dataframe\">\n",
       "  <thead>\n",
       "    <tr style=\"text-align: right;\">\n",
       "      <th></th>\n",
       "      <th>2</th>\n",
       "    </tr>\n",
       "  </thead>\n",
       "  <tbody>\n",
       "    <tr>\n",
       "      <th>0</th>\n",
       "      <td>9</td>\n",
       "    </tr>\n",
       "    <tr>\n",
       "      <th>1</th>\n",
       "      <td>5</td>\n",
       "    </tr>\n",
       "    <tr>\n",
       "      <th>2</th>\n",
       "      <td>6</td>\n",
       "    </tr>\n",
       "  </tbody>\n",
       "</table>\n",
       "</div>"
      ],
      "text/plain": [
       "   2\n",
       "0  9\n",
       "1  5\n",
       "2  6"
      ]
     },
     "execution_count": 17,
     "metadata": {},
     "output_type": "execute_result"
    }
   ],
   "source": [
    "df = pd.DataFrame([[7,      np.nan, 9],\n",
    "                   [2,      4,      5],\n",
    "                   [np.nan, 9,      6]])\n",
    "print(df)\n",
    "df.dropna(axis='columns')"
   ]
  },
  {
   "cell_type": "code",
   "execution_count": 18,
   "id": "83a3200b",
   "metadata": {},
   "outputs": [],
   "source": [
    "#Regular Expression"
   ]
  },
  {
   "cell_type": "code",
   "execution_count": 19,
   "id": "9cb17748",
   "metadata": {},
   "outputs": [],
   "source": [
    "import re\n",
    "\n",
    "txt = \"The rain in Paris\"\n",
    "a = re.search(\"^The.*Paris$\", txt)"
   ]
  },
  {
   "cell_type": "code",
   "execution_count": 20,
   "id": "8eaa3474",
   "metadata": {},
   "outputs": [
    {
     "name": "stdout",
     "output_type": "stream",
     "text": [
      "['in', 'in']\n"
     ]
    }
   ],
   "source": [
    "import re\n",
    "\n",
    "txt = \"The rain in Paris\"\n",
    "x= re.findall(\"in\", txt)\n",
    "print(x)"
   ]
  },
  {
   "cell_type": "code",
   "execution_count": 21,
   "id": "3090dbda",
   "metadata": {},
   "outputs": [
    {
     "name": "stdout",
     "output_type": "stream",
     "text": [
      "['Spain']\n"
     ]
    }
   ],
   "source": [
    "import re\n",
    "\n",
    "txt = \"The rain in Spain\"\n",
    "x = re.findall(\"Spain\", txt)\n",
    "print(x)"
   ]
  },
  {
   "cell_type": "code",
   "execution_count": 22,
   "id": "a1b9f58f",
   "metadata": {},
   "outputs": [
    {
     "name": "stdout",
     "output_type": "stream",
     "text": [
      "The first white-space character is located in position: 3\n"
     ]
    }
   ],
   "source": [
    "import re\n",
    "\n",
    "txt = \"The rain in Spain\"\n",
    "x = re.search(\"\\s\", txt)\n",
    "\n",
    "print(\"The first white-space character is located in position:\", x.start())"
   ]
  },
  {
   "cell_type": "code",
   "execution_count": 23,
   "id": "3b949439",
   "metadata": {},
   "outputs": [
    {
     "name": "stdout",
     "output_type": "stream",
     "text": [
      "['The', 'rain', 'in', 'Paris']\n"
     ]
    }
   ],
   "source": [
    "import re\n",
    "\n",
    "txt = \"The rain in Paris\"\n",
    "x = re.split(\"\\s\", txt)\n",
    "print(x)"
   ]
  },
  {
   "cell_type": "code",
   "execution_count": 6,
   "id": "4c17430a",
   "metadata": {},
   "outputs": [
    {
     "name": "stdout",
     "output_type": "stream",
     "text": [
      "Hello1world\n"
     ]
    }
   ],
   "source": [
    "import re\n",
    "\n",
    "txt = \"Hello world\"\n",
    "x = re.sub(\"\\s\", \"1\", txt)\n",
    "print(x)"
   ]
  },
  {
   "cell_type": "code",
   "execution_count": 7,
   "id": "2730d284",
   "metadata": {},
   "outputs": [
    {
     "name": "stdout",
     "output_type": "stream",
     "text": [
      "Hello8this8is python \n"
     ]
    }
   ],
   "source": [
    "import re\n",
    "\n",
    "txt = \"Hello this is python \"\n",
    "x = re.sub(\"\\s\", \"8\", txt, 2)\n",
    "print(x)"
   ]
  },
  {
   "cell_type": "code",
   "execution_count": 26,
   "id": "2a7d5f14",
   "metadata": {},
   "outputs": [],
   "source": [
    "#numpy"
   ]
  },
  {
   "cell_type": "code",
   "execution_count": 27,
   "id": "9c6cca77",
   "metadata": {},
   "outputs": [],
   "source": [
    "#Aggregation"
   ]
  },
  {
   "cell_type": "code",
   "execution_count": 28,
   "id": "0504cc31",
   "metadata": {},
   "outputs": [
    {
     "name": "stdout",
     "output_type": "stream",
     "text": [
      "     A    B    C\n",
      "0  9.0  8.0  7.0\n",
      "1  6.0  5.0  4.0\n",
      "2  3.0  2.0  1.0\n",
      "3  NaN  NaN  NaN\n",
      "        A     B     C\n",
      "sum  18.0  15.0  12.0\n",
      "min   3.0   2.0   1.0\n",
      "        A    B\n",
      "sum  18.0  NaN\n",
      "min   3.0  2.0\n",
      "max   NaN  8.0\n",
      "0    8.0\n",
      "1    5.0\n",
      "2    2.0\n",
      "3    NaN\n",
      "dtype: float64\n",
      "A    6.0\n",
      "B    5.0\n",
      "C    4.0\n",
      "dtype: float64\n"
     ]
    }
   ],
   "source": [
    "import pandas as pd\n",
    "import numpy as np\n",
    "df = pd.DataFrame([[9, 8, 7],\n",
    "                   [6, 5, 4],\n",
    "                    [3, 2, 1],\n",
    "                   [np.nan, np.nan, np.nan]],\n",
    "                  columns=['A', 'B', 'C'])\n",
    "print(df)\n",
    "print(df.agg(['sum', 'min']))\n",
    "print(df.agg({'A' : ['sum', 'min'], 'B' : ['min', 'max']}))\n",
    "print(df.agg(\"mean\", axis=\"columns\"))\n",
    "print(df.agg(\"mean\", axis=\"rows\"))"
   ]
  },
  {
   "cell_type": "code",
   "execution_count": 29,
   "id": "205b51d6",
   "metadata": {},
   "outputs": [],
   "source": [
    "#Comparison"
   ]
  },
  {
   "cell_type": "code",
   "execution_count": 30,
   "id": "e9273d31",
   "metadata": {},
   "outputs": [
    {
     "name": "stdout",
     "output_type": "stream",
     "text": [
      "No\n",
      "Yes\n",
      "Yes\n"
     ]
    }
   ],
   "source": [
    "x1 = [16, 28, 35]\n",
    "x2 = [10, 20, 30]\n",
    "  \n",
    "if  x1 is x2:\n",
    "    print(\"Yes\")\n",
    "else:\n",
    "    print(\"No\")\n",
    "  \n",
    "x3 = x1\n",
    "  \n",
    "# So we get \"Yes\" here\n",
    "if  x1 is x3:\n",
    "    print(\"Yes\")\n",
    "else:\n",
    "    print(\"No\")\n",
    "\n",
    "if  x1 == x3:\n",
    "    print(\"Yes\")\n",
    "else:\n",
    "    print(\"No\")"
   ]
  },
  {
   "cell_type": "code",
   "execution_count": 31,
   "id": "da9d6558",
   "metadata": {},
   "outputs": [
    {
     "name": "stdout",
     "output_type": "stream",
     "text": [
      "False\n"
     ]
    }
   ],
   "source": [
    "x = 7\n",
    "y = 3\n",
    "\n",
    "print(x == y)"
   ]
  },
  {
   "cell_type": "code",
   "execution_count": 32,
   "id": "c10ab431",
   "metadata": {},
   "outputs": [
    {
     "name": "stdout",
     "output_type": "stream",
     "text": [
      "True\n",
      "False\n",
      "True\n"
     ]
    }
   ],
   "source": [
    "print(x != y)\n",
    "print(x < y)\n",
    "print(x > y)"
   ]
  },
  {
   "cell_type": "code",
   "execution_count": 33,
   "id": "c637b081",
   "metadata": {},
   "outputs": [
    {
     "name": "stdout",
     "output_type": "stream",
     "text": [
      "True\n",
      "False\n"
     ]
    }
   ],
   "source": [
    "print(x >= y)\n",
    "print(x <= y)"
   ]
  },
  {
   "cell_type": "code",
   "execution_count": 34,
   "id": "f2ec7758",
   "metadata": {},
   "outputs": [],
   "source": [
    "#Mask"
   ]
  },
  {
   "cell_type": "code",
   "execution_count": 35,
   "id": "a8b60afb",
   "metadata": {},
   "outputs": [
    {
     "data": {
      "text/html": [
       "<div>\n",
       "<style scoped>\n",
       "    .dataframe tbody tr th:only-of-type {\n",
       "        vertical-align: middle;\n",
       "    }\n",
       "\n",
       "    .dataframe tbody tr th {\n",
       "        vertical-align: top;\n",
       "    }\n",
       "\n",
       "    .dataframe thead th {\n",
       "        text-align: right;\n",
       "    }\n",
       "</style>\n",
       "<table border=\"1\" class=\"dataframe\">\n",
       "  <thead>\n",
       "    <tr style=\"text-align: right;\">\n",
       "      <th></th>\n",
       "      <th>A</th>\n",
       "      <th>B</th>\n",
       "      <th>C</th>\n",
       "      <th>D</th>\n",
       "    </tr>\n",
       "  </thead>\n",
       "  <tbody>\n",
       "    <tr>\n",
       "      <th>0</th>\n",
       "      <td>18</td>\n",
       "      <td>57</td>\n",
       "      <td>20</td>\n",
       "      <td>14</td>\n",
       "    </tr>\n",
       "    <tr>\n",
       "      <th>1</th>\n",
       "      <td>44</td>\n",
       "      <td>72</td>\n",
       "      <td>16</td>\n",
       "      <td>3</td>\n",
       "    </tr>\n",
       "    <tr>\n",
       "      <th>2</th>\n",
       "      <td>58</td>\n",
       "      <td>54</td>\n",
       "      <td>77</td>\n",
       "      <td>17</td>\n",
       "    </tr>\n",
       "    <tr>\n",
       "      <th>3</th>\n",
       "      <td>4</td>\n",
       "      <td>93</td>\n",
       "      <td>53</td>\n",
       "      <td>2</td>\n",
       "    </tr>\n",
       "    <tr>\n",
       "      <th>4</th>\n",
       "      <td>1</td>\n",
       "      <td>2</td>\n",
       "      <td>8</td>\n",
       "      <td>6</td>\n",
       "    </tr>\n",
       "  </tbody>\n",
       "</table>\n",
       "</div>"
      ],
      "text/plain": [
       "    A   B   C   D\n",
       "0  18  57  20  14\n",
       "1  44  72  16   3\n",
       "2  58  54  77  17\n",
       "3   4  93  53   2\n",
       "4   1   2   8   6"
      ]
     },
     "execution_count": 35,
     "metadata": {},
     "output_type": "execute_result"
    }
   ],
   "source": [
    "import pandas as pd\n",
    "  \n",
    "df = pd.DataFrame({\"A\":[18, 44, 58, 4, 1],\n",
    "                   \"B\":[57, 72, 54, 93, 2],\n",
    "                   \"C\":[20, 16, 77, 43, 8],\n",
    "                   \"D\":[14, 3, 17, 2, 6]})\n",
    "  \n",
    "df"
   ]
  },
  {
   "cell_type": "code",
   "execution_count": 36,
   "id": "86fac270",
   "metadata": {},
   "outputs": [
    {
     "data": {
      "text/html": [
       "<div>\n",
       "<style scoped>\n",
       "    .dataframe tbody tr th:only-of-type {\n",
       "        vertical-align: middle;\n",
       "    }\n",
       "\n",
       "    .dataframe tbody tr th {\n",
       "        vertical-align: top;\n",
       "    }\n",
       "\n",
       "    .dataframe thead th {\n",
       "        text-align: right;\n",
       "    }\n",
       "</style>\n",
       "<table border=\"1\" class=\"dataframe\">\n",
       "  <thead>\n",
       "    <tr style=\"text-align: right;\">\n",
       "      <th></th>\n",
       "      <th>A</th>\n",
       "      <th>B</th>\n",
       "      <th>C</th>\n",
       "      <th>D</th>\n",
       "    </tr>\n",
       "  </thead>\n",
       "  <tbody>\n",
       "    <tr>\n",
       "      <th>0</th>\n",
       "      <td>-2</td>\n",
       "      <td>-2</td>\n",
       "      <td>-2</td>\n",
       "      <td>-2</td>\n",
       "    </tr>\n",
       "    <tr>\n",
       "      <th>1</th>\n",
       "      <td>-2</td>\n",
       "      <td>-2</td>\n",
       "      <td>-2</td>\n",
       "      <td>3</td>\n",
       "    </tr>\n",
       "    <tr>\n",
       "      <th>2</th>\n",
       "      <td>-2</td>\n",
       "      <td>-2</td>\n",
       "      <td>-2</td>\n",
       "      <td>-2</td>\n",
       "    </tr>\n",
       "    <tr>\n",
       "      <th>3</th>\n",
       "      <td>4</td>\n",
       "      <td>-2</td>\n",
       "      <td>-2</td>\n",
       "      <td>2</td>\n",
       "    </tr>\n",
       "    <tr>\n",
       "      <th>4</th>\n",
       "      <td>1</td>\n",
       "      <td>2</td>\n",
       "      <td>8</td>\n",
       "      <td>6</td>\n",
       "    </tr>\n",
       "  </tbody>\n",
       "</table>\n",
       "</div>"
      ],
      "text/plain": [
       "   A  B  C  D\n",
       "0 -2 -2 -2 -2\n",
       "1 -2 -2 -2  3\n",
       "2 -2 -2 -2 -2\n",
       "3  4 -2 -2  2\n",
       "4  1  2  8  6"
      ]
     },
     "execution_count": 36,
     "metadata": {},
     "output_type": "execute_result"
    }
   ],
   "source": [
    "df.mask(df > 8, -2)"
   ]
  },
  {
   "cell_type": "code",
   "execution_count": 37,
   "id": "9079f5db",
   "metadata": {},
   "outputs": [
    {
     "data": {
      "text/html": [
       "<div>\n",
       "<style scoped>\n",
       "    .dataframe tbody tr th:only-of-type {\n",
       "        vertical-align: middle;\n",
       "    }\n",
       "\n",
       "    .dataframe tbody tr th {\n",
       "        vertical-align: top;\n",
       "    }\n",
       "\n",
       "    .dataframe thead th {\n",
       "        text-align: right;\n",
       "    }\n",
       "</style>\n",
       "<table border=\"1\" class=\"dataframe\">\n",
       "  <thead>\n",
       "    <tr style=\"text-align: right;\">\n",
       "      <th></th>\n",
       "      <th>A</th>\n",
       "      <th>B</th>\n",
       "      <th>C</th>\n",
       "      <th>D</th>\n",
       "    </tr>\n",
       "  </thead>\n",
       "  <tbody>\n",
       "    <tr>\n",
       "      <th>0</th>\n",
       "      <td>10.0</td>\n",
       "      <td>8.0</td>\n",
       "      <td>0</td>\n",
       "      <td>1.0</td>\n",
       "    </tr>\n",
       "    <tr>\n",
       "      <th>1</th>\n",
       "      <td>9.0</td>\n",
       "      <td>2.0</td>\n",
       "      <td>164</td>\n",
       "      <td>3.0</td>\n",
       "    </tr>\n",
       "    <tr>\n",
       "      <th>2</th>\n",
       "      <td>8.0</td>\n",
       "      <td>54.0</td>\n",
       "      <td>11</td>\n",
       "      <td>1000.0</td>\n",
       "    </tr>\n",
       "    <tr>\n",
       "      <th>3</th>\n",
       "      <td>1000.0</td>\n",
       "      <td>3.0</td>\n",
       "      <td>3</td>\n",
       "      <td>2.0</td>\n",
       "    </tr>\n",
       "    <tr>\n",
       "      <th>4</th>\n",
       "      <td>1.0</td>\n",
       "      <td>1000.0</td>\n",
       "      <td>8</td>\n",
       "      <td>6.0</td>\n",
       "    </tr>\n",
       "  </tbody>\n",
       "</table>\n",
       "</div>"
      ],
      "text/plain": [
       "        A       B    C       D\n",
       "0    10.0     8.0    0     1.0\n",
       "1     9.0     2.0  164     3.0\n",
       "2     8.0    54.0   11  1000.0\n",
       "3  1000.0     3.0    3     2.0\n",
       "4     1.0  1000.0    8     6.0"
      ]
     },
     "execution_count": 37,
     "metadata": {},
     "output_type": "execute_result"
    }
   ],
   "source": [
    "import pandas as pd\n",
    "   \n",
    "df = pd.DataFrame({\"A\":[10, 9, 8, None, 1],\n",
    "                   \"B\":[8, 2, 54, 3, None],\n",
    "                   \"C\":[0, 164, 11, 3, 8],\n",
    "                   \"D\":[1, 3, None, 2, 6]})\n",
    "  \n",
    "df.mask(df.isna(), 1000)"
   ]
  },
  {
   "cell_type": "code",
   "execution_count": 38,
   "id": "35eb4e4e",
   "metadata": {},
   "outputs": [],
   "source": [
    "#Boolean Array"
   ]
  },
  {
   "cell_type": "code",
   "execution_count": 43,
   "id": "184a488e",
   "metadata": {},
   "outputs": [
    {
     "name": "stdout",
     "output_type": "stream",
     "text": [
      "The True initialized list is : [True, True, True, True, True, True, True]\n"
     ]
    }
   ],
   "source": [
    "r=  [True for i in range(4)]\n",
    " \n",
    "print (\"The True initialized list is : \" +  str(res))"
   ]
  },
  {
   "cell_type": "code",
   "execution_count": 44,
   "id": "6b8be101",
   "metadata": {},
   "outputs": [
    {
     "name": "stdout",
     "output_type": "stream",
     "text": [
      "The True initialized list is : [True, True, True, True, True, True, True]\n"
     ]
    }
   ],
   "source": [
    "r =  [True] * 7\n",
    "\n",
    "print (\"The True initialized list is : \" +  str(res))"
   ]
  },
  {
   "cell_type": "code",
   "execution_count": 41,
   "id": "27ffda6b",
   "metadata": {},
   "outputs": [
    {
     "name": "stdout",
     "output_type": "stream",
     "text": [
      "The False initialized list is : [True, True, True, True, True, True, True]\n"
     ]
    }
   ],
   "source": [
    "a = list(bytearray(6))\n",
    "\n",
    "print (\"The False initialized list is : \" +  str(res))"
   ]
  },
  {
   "cell_type": "code",
   "execution_count": 42,
   "id": "afbb5582",
   "metadata": {},
   "outputs": [
    {
     "name": "stdout",
     "output_type": "stream",
     "text": [
      "bool\n",
      "bool\n"
     ]
    }
   ],
   "source": [
    "arr_1 = np.random.randn(3, 3)\n",
    "arr_2 = np.random.randn(3, 3)\n",
    "\n",
    "bool_arr = arr_1 < 0.5    \n",
    "print(bool_arr.dtype)\n",
    "\n",
    "bool_arr = arr_1 < arr_2\n",
    "print(bool_arr.dtype)"
   ]
  },
  {
   "cell_type": "code",
   "execution_count": null,
   "id": "c0152a14",
   "metadata": {},
   "outputs": [],
   "source": []
  },
  {
   "cell_type": "code",
   "execution_count": null,
   "id": "46123646",
   "metadata": {},
   "outputs": [],
   "source": []
  },
  {
   "cell_type": "code",
   "execution_count": null,
   "id": "d8d1a445",
   "metadata": {},
   "outputs": [],
   "source": []
  },
  {
   "cell_type": "code",
   "execution_count": null,
   "id": "dbc5dac2",
   "metadata": {},
   "outputs": [],
   "source": []
  },
  {
   "cell_type": "code",
   "execution_count": null,
   "id": "d17e9a5e",
   "metadata": {},
   "outputs": [],
   "source": []
  },
  {
   "cell_type": "code",
   "execution_count": null,
   "id": "20912cd5",
   "metadata": {},
   "outputs": [],
   "source": []
  },
  {
   "cell_type": "code",
   "execution_count": null,
   "id": "600e4da3",
   "metadata": {},
   "outputs": [],
   "source": []
  }
 ],
 "metadata": {
  "kernelspec": {
   "display_name": "Python 3.9.12 ('base')",
   "language": "python",
   "name": "python3"
  },
  "language_info": {
   "codemirror_mode": {
    "name": "ipython",
    "version": 3
   },
   "file_extension": ".py",
   "mimetype": "text/x-python",
   "name": "python",
   "nbconvert_exporter": "python",
   "pygments_lexer": "ipython3",
   "version": "3.9.12"
  },
  "vscode": {
   "interpreter": {
    "hash": "0bd661bf9b5191e8cd0797450439294fe5998617a6c22d4b671ec07ec110df97"
   }
  }
 },
 "nbformat": 4,
 "nbformat_minor": 5
}
